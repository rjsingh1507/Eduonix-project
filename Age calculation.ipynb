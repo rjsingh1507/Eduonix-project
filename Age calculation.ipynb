{
 "cells": [
  {
   "cell_type": "code",
   "execution_count": 1,
   "id": "f234369b",
   "metadata": {},
   "outputs": [
    {
     "name": "stdout",
     "output_type": "stream",
     "text": [
      "What's your age? 29\n",
      "Please choose time unit: Months, Weeks, Days, Hours, Minutes, Seconds. weeks\n",
      "You lived for 1508 Weeks\n"
     ]
    }
   ],
   "source": [
    "def calculate_duration(age, time_unit):\n",
    "    if time_unit.lower() == 'months' or time_unit.lower() == 'm':\n",
    "        duration = age * 12\n",
    "        unit_name = 'Months'\n",
    "    elif time_unit.lower() == 'weeks' or time_unit.lower() == 'w':\n",
    "        duration = age * 52\n",
    "        unit_name = 'Weeks'\n",
    "    elif time_unit.lower() == 'days' or time_unit.lower() == 'd':\n",
    "        duration = age * 365\n",
    "        unit_name = 'Days'\n",
    "    elif time_unit.lower() == 'hours' or time_unit.lower() == 'h':\n",
    "        duration = age * 365 * 24\n",
    "        unit_name = 'Hours'\n",
    "    elif time_unit.lower() == 'minutes' or time_unit.lower() == 'min':\n",
    "        duration = age * 365 * 24 * 60\n",
    "        unit_name = 'Minutes'\n",
    "    elif time_unit.lower() == 'seconds' or time_unit.lower() == 's':\n",
    "        duration = age * 365 * 24 * 60 * 60\n",
    "        unit_name = 'Seconds'\n",
    "    else:\n",
    "        return \"Invalid time unit selected. Please choose from: Months, Weeks, Days, Hours, Minutes, Seconds.\"\n",
    "\n",
    "    return f\"You lived for {duration} {unit_name}\"\n",
    "\n",
    "# Example usage\n",
    "age = int(input(\"What's your age? \"))\n",
    "time_unit = input(\"Please choose time unit: Months, Weeks, Days, Hours, Minutes, Seconds. \").strip()\n",
    "\n",
    "result = calculate_duration(age, time_unit)\n",
    "print(result)"
   ]
  },
  {
   "cell_type": "code",
   "execution_count": null,
   "id": "cb6ef317",
   "metadata": {},
   "outputs": [],
   "source": []
  }
 ],
 "metadata": {
  "kernelspec": {
   "display_name": "Python 3 (ipykernel)",
   "language": "python",
   "name": "python3"
  },
  "language_info": {
   "codemirror_mode": {
    "name": "ipython",
    "version": 3
   },
   "file_extension": ".py",
   "mimetype": "text/x-python",
   "name": "python",
   "nbconvert_exporter": "python",
   "pygments_lexer": "ipython3",
   "version": "3.11.5"
  }
 },
 "nbformat": 4,
 "nbformat_minor": 5
}
